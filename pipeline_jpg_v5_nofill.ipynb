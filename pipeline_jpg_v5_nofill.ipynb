{
 "cells": [
  {
   "cell_type": "code",
   "execution_count": 1,
   "metadata": {},
   "outputs": [],
   "source": [
    "import cv2\n",
    "import os\n",
    "import glob\n",
    "import xml.etree.ElementTree as ET\n",
    "import numpy as np"
   ]
  },
  {
   "cell_type": "code",
   "execution_count": 3,
   "metadata": {},
   "outputs": [],
   "source": [
    "parent_dir = os.getcwd()"
   ]
  },
  {
   "cell_type": "code",
   "execution_count": 4,
   "metadata": {},
   "outputs": [],
   "source": [
    "xmlfiles = glob.glob('*.xml')"
   ]
  },
  {
   "cell_type": "code",
   "execution_count": 5,
   "metadata": {},
   "outputs": [],
   "source": [
    "for fnxml in xmlfiles:\n",
    "    fntemp = fnxml\n",
    "    fn = fntemp[:-4]\n",
    "    fnjpg = fn + '.jpg'\n",
    "    image = cv2.imread(fnjpg)\n",
    "    tree = ET.parse(fnxml)\n",
    "    root = tree.getroot()\n",
    "    a = 0\n",
    "    for bbox in root.findall('object'):\n",
    "        a = a + 1\n",
    "        objtag = (root[a][1].text)\n",
    "        if objtag == \"1\":\n",
    "            decchk = \".\"\n",
    "        else:\n",
    "            decchk = objtag[1] \n",
    "        if decchk == \".\":\n",
    "            b = 2\n",
    "            c = 3\n",
    "        else:\n",
    "            b = 1\n",
    "            c = 2    \n",
    "        objtag = (root[a][b].text)\n",
    "        xminbox = int(root[a][c][0].text)\n",
    "        yminbox = int(root[a][c][1].text)\n",
    "        xmaxbox = int(root[a][c][2].text)\n",
    "        ymaxbox = int(root[a][c][3].text)\n",
    "        xphotomax = int(root[0][0].text)\n",
    "        yphotomax = int(root[0][1].text)\n",
    "        if xmaxbox <= xphotomax:\n",
    "            xstop = xmaxbox\n",
    "        else:\n",
    "            xstop = xphotomax\n",
    "        xside = xstop - xminbox\n",
    "        if ymaxbox <= yphotomax:\n",
    "            ystop = ymaxbox\n",
    "        else:\n",
    "            ystop = yphotomax\n",
    "        yside = ystop - yminbox\n",
    "        imagecrop = image[yminbox:ystop, xminbox:xstop]\n",
    "        d = str(a)\n",
    "        if not os.path.exists(objtag):\n",
    "            os.makedirs(objtag)\n",
    "        os.chdir(objtag)\n",
    "        fovname = objtag + '_' + d + '_' + fnjpg\n",
    "        cv2.imwrite(fovname, imagecrop)\n",
    "        os.chdir('..')"
   ]
  },
  {
   "cell_type": "code",
   "execution_count": null,
   "metadata": {},
   "outputs": [],
   "source": []
  }
 ],
 "metadata": {
  "kernelspec": {
   "display_name": "Python 3 (ipykernel)",
   "language": "python",
   "name": "python3"
  },
  "language_info": {
   "codemirror_mode": {
    "name": "ipython",
    "version": 3
   },
   "file_extension": ".py",
   "mimetype": "text/x-python",
   "name": "python",
   "nbconvert_exporter": "python",
   "pygments_lexer": "ipython3",
   "version": "3.9.14"
  }
 },
 "nbformat": 4,
 "nbformat_minor": 4
}
