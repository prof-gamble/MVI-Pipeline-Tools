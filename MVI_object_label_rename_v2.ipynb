{
 "cells": [
  {
   "cell_type": "code",
   "execution_count": 1,
   "metadata": {},
   "outputs": [],
   "source": [
    "import os\n",
    "import glob\n",
    "import xml.etree.ElementTree as ET\n",
    "import shutil"
   ]
  },
  {
   "cell_type": "code",
   "execution_count": 6,
   "metadata": {},
   "outputs": [],
   "source": [
    "parentdirectory = os.getcwd()\n",
    "newdirectory = os.path.basename(parentdirectory)"
   ]
  },
  {
   "cell_type": "code",
   "execution_count": 11,
   "metadata": {},
   "outputs": [],
   "source": [
    "if not os.path.exists(newdirectory):\n",
    "    os.mkdir(newdirectory)\n",
    "else:\n",
    "    shutil.rmtree(newdirectory)\n",
    "    os.mkdir(newdirectory)\n",
    "os.chdir(parentdirectory)"
   ]
  },
  {
   "cell_type": "code",
   "execution_count": 12,
   "metadata": {},
   "outputs": [
    {
     "data": {
      "text/plain": [
       "'/Users/eric/Documents/Computer Vision/Toyota/DOOR_RHFR_BOT_4_FOV/DOOR_RHFR_BOT_4_FOV/prop.json'"
      ]
     },
     "execution_count": 12,
     "metadata": {},
     "output_type": "execute_result"
    }
   ],
   "source": [
    "os.chdir(newdirectory)\n",
    "writepath = os.getcwd() + '/prop.json'\n",
    "zippydir = os.getcwd()\n",
    "os.chdir(parentdirectory)\n",
    "readpath = os.getcwd() + '/prop.json'\n",
    "shutil.copyfile(readpath, writepath)"
   ]
  },
  {
   "cell_type": "code",
   "execution_count": 13,
   "metadata": {},
   "outputs": [
    {
     "name": "stdout",
     "output_type": "stream",
     "text": [
      "Original Label Name: FOV3\n",
      "New/Re-label Name: fov3\n"
     ]
    }
   ],
   "source": [
    "oldlabel = input('Original Label Name: ')\n",
    "newlabel = input('New/Re-label Name: ')"
   ]
  },
  {
   "cell_type": "code",
   "execution_count": 14,
   "metadata": {},
   "outputs": [],
   "source": [
    "xmlfiles = glob.glob('*.xml')\n",
    "nopic = 0"
   ]
  },
  {
   "cell_type": "code",
   "execution_count": 15,
   "metadata": {},
   "outputs": [],
   "source": [
    "for fnxml in xmlfiles:\n",
    "    fntemp = fnxml\n",
    "    fn = fntemp[:-4]\n",
    "    fnjpg = fn + '.jpg'\n",
    "    fnpng = fn + '.png'\n",
    "    readjpg = parentdirectory + '/' + fnjpg\n",
    "    writejpg = parentdirectory + '/' + newdirectory + '/' + fnjpg\n",
    "    readpng = parentdirectory + '/' + fnpng\n",
    "    writepng = parentdirectory + '/' + newdirectory + '/' + fnpng\n",
    "    if os.path.isfile(fnjpg):\n",
    "        shutil.copyfile(readjpg, writejpg)\n",
    "    elif os.path.isfile(fnpng):\n",
    "        shutil.copyfile(readpng, writepng)\n",
    "    else:\n",
    "        nopic = nopic + 1\n",
    "    tree = ET.parse(fnxml)\n",
    "    root = tree.getroot()\n",
    "    a = 0\n",
    "    for bbox in root.findall('object'):\n",
    "        a = a + 1\n",
    "        objtag = (root[a][1].text)\n",
    "        if objtag == \"1\":\n",
    "            decchk = \".\"\n",
    "        else:\n",
    "            decchk = objtag[1] \n",
    "        if decchk == \".\":\n",
    "            if root[a][2].text == oldlabel:\n",
    "                root[a][2].text = newlabel\n",
    "        else:\n",
    "            if root[a][1].text == oldlabel:\n",
    "                root[a][1].text = newlabel               \n",
    "    os.chdir(newdirectory)\n",
    "    tree.write(fnxml)\n",
    "    os.chdir('..')"
   ]
  },
  {
   "cell_type": "code",
   "execution_count": 16,
   "metadata": {},
   "outputs": [
    {
     "data": {
      "text/plain": [
       "'/Users/eric/Documents/Computer Vision/Toyota/DOOR_RHFR_BOT_4_FOV/DOOR_RHFR_BOT_4_FOV.zip'"
      ]
     },
     "execution_count": 16,
     "metadata": {},
     "output_type": "execute_result"
    }
   ],
   "source": [
    "shutil.make_archive(newdirectory, 'zip', zippydir)"
   ]
  },
  {
   "cell_type": "code",
   "execution_count": null,
   "metadata": {},
   "outputs": [],
   "source": []
  }
 ],
 "metadata": {
  "kernelspec": {
   "display_name": "Python 3",
   "language": "python",
   "name": "python3"
  },
  "language_info": {
   "codemirror_mode": {
    "name": "ipython",
    "version": 3
   },
   "file_extension": ".py",
   "mimetype": "text/x-python",
   "name": "python",
   "nbconvert_exporter": "python",
   "pygments_lexer": "ipython3",
   "version": "3.8.2"
  }
 },
 "nbformat": 4,
 "nbformat_minor": 4
}
