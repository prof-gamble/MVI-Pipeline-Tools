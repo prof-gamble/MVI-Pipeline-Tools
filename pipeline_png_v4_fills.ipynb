{
 "cells": [
  {
   "cell_type": "code",
   "execution_count": 1,
   "metadata": {},
   "outputs": [],
   "source": [
    "import cv2\n",
    "import os\n",
    "import glob\n",
    "import xml.etree.ElementTree as ET\n",
    "import numpy as np"
   ]
  },
  {
   "cell_type": "code",
   "execution_count": 2,
   "metadata": {},
   "outputs": [],
   "source": [
    "parent_dir = os.getcwd()"
   ]
  },
  {
   "cell_type": "code",
   "execution_count": 3,
   "metadata": {},
   "outputs": [],
   "source": [
    "xmlfiles = glob.glob('*.xml')"
   ]
  },
  {
   "cell_type": "code",
   "execution_count": 9,
   "metadata": {},
   "outputs": [],
   "source": [
    "for fnxml in xmlfiles:\n",
    "    fntemp = fnxml\n",
    "    fn = fntemp[:-4]\n",
    "    fnpng = fn + '.png'\n",
    "    image = cv2.imread(fnpng)\n",
    "    tree = ET.parse(fnxml)\n",
    "    root = tree.getroot()\n",
    "    a = 0\n",
    "    for bbox in root.findall('object'):\n",
    "        a = a + 1\n",
    "        objtag = (root[a][1].text)\n",
    "        if objtag == \"1\":\n",
    "            decchk = \".\"\n",
    "        else:\n",
    "            decchk = objtag[1] \n",
    "        if decchk == \".\":\n",
    "            b = 2\n",
    "            c = 3\n",
    "        else:\n",
    "            b = 1\n",
    "            c = 2    \n",
    "        objtag = (root[a][b].text)\n",
    "        xminbox = int(root[a][c][0].text)\n",
    "        yminbox = int(root[a][c][1].text)\n",
    "        xmaxbox = int(root[a][c][2].text)\n",
    "        ymaxbox = int(root[a][c][3].text)\n",
    "        imagecrop = image[yminbox:ymaxbox, xminbox:xmaxbox]\n",
    "        imagecrop = image[yminbox:ymaxbox, xminbox:xmaxbox]\n",
    "        yside = ymaxbox - yminbox\n",
    "        xside = xmaxbox - xminbox\n",
    "        if yside < xside:\n",
    "            fills = 1\n",
    "            xfills = xside\n",
    "            imdelta = xside - yside\n",
    "            yfills1 = int(imdelta / 2)\n",
    "            yfilchk = 2 * yfills1\n",
    "            if imdelta > yfilchk:\n",
    "                yfills2 = yfills1 + 1\n",
    "            else:\n",
    "                yfills2 = yfills1\n",
    "            topimage = np.zeros((yfills1,xfills,3), dtype = \"uint8\")\n",
    "            bottomimage = np.zeros((yfills2,xfills,3), dtype = \"uint8\")\n",
    "            imagesquare = cv2.vconcat([topimage, imagecrop, bottomimage])\n",
    "        elif xside < yside:\n",
    "            fills = 2\n",
    "            yfills = yside\n",
    "            imdelta = yside - xside\n",
    "            xfills1 = int(imdelta / 2)\n",
    "            xfilchk = 2 * xfills1\n",
    "            if imdelta > xfilchk:\n",
    "                xfills2 = xfills1 + 1\n",
    "            else:\n",
    "                xfills2 = xfills1\n",
    "            rightimage = np.zeros((yfills,xfills1,3), dtype = \"uint8\")\n",
    "            leftimage = np.zeros((yfills,xfills2,3), dtype = \"uint8\")\n",
    "            imagesquare = cv2.hconcat([leftimage, imagecrop, rightimage])\n",
    "        else:\n",
    "            fills = 0\n",
    "            imagesquare = imagecrop\n",
    "        d = str(a)\n",
    "        if not os.path.exists(objtag):\n",
    "            os.makedirs(objtag)\n",
    "        os.chdir(objtag)\n",
    "        fovname = objtag + '_' + d + '_' + fnpng\n",
    "        cv2.imwrite(fovname, imagesquare)\n",
    "        os.chdir('..')"
   ]
  },
  {
   "cell_type": "code",
   "execution_count": null,
   "metadata": {},
   "outputs": [],
   "source": []
  }
 ],
 "metadata": {
  "kernelspec": {
   "display_name": "Python 3",
   "language": "python",
   "name": "python3"
  },
  "language_info": {
   "codemirror_mode": {
    "name": "ipython",
    "version": 3
   },
   "file_extension": ".py",
   "mimetype": "text/x-python",
   "name": "python",
   "nbconvert_exporter": "python",
   "pygments_lexer": "ipython3",
   "version": "3.8.2"
  }
 },
 "nbformat": 4,
 "nbformat_minor": 4
}
